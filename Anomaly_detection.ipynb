{
 "cells": [
  {
   "cell_type": "code",
   "execution_count": 28,
   "metadata": {},
   "outputs": [],
   "source": [
    "import pandas as pd\n",
    "import numpy as np\n",
    "from sklearn.preprocessing import MinMaxScaler\n",
    "from sklearn.model_selection import train_test_split\n",
    "import tensorflow as tf\n",
    "from tensorflow.keras.models import Sequential\n",
    "from tensorflow.keras.layers import LSTM, Dense\n"
   ]
  },
  {
   "cell_type": "code",
   "execution_count": 29,
   "metadata": {},
   "outputs": [],
   "source": [
    "\n",
    "\n",
    "df = pd.read_csv('Energy_components.csv')\n",
    "\n",
    "\n"
   ]
  },
  {
   "cell_type": "code",
   "execution_count": 30,
   "metadata": {},
   "outputs": [
    {
     "data": {
      "text/html": [
       "<div>\n",
       "<style scoped>\n",
       "    .dataframe tbody tr th:only-of-type {\n",
       "        vertical-align: middle;\n",
       "    }\n",
       "\n",
       "    .dataframe tbody tr th {\n",
       "        vertical-align: top;\n",
       "    }\n",
       "\n",
       "    .dataframe thead th {\n",
       "        text-align: right;\n",
       "    }\n",
       "</style>\n",
       "<table border=\"1\" class=\"dataframe\">\n",
       "  <thead>\n",
       "    <tr style=\"text-align: right;\">\n",
       "      <th></th>\n",
       "      <th>quantity</th>\n",
       "      <th>time</th>\n",
       "      <th>id</th>\n",
       "    </tr>\n",
       "  </thead>\n",
       "  <tbody>\n",
       "    <tr>\n",
       "      <th>0</th>\n",
       "      <td>58.627513</td>\n",
       "      <td>2024-09-30T22:51:54.857Z</td>\n",
       "      <td>66fb2b8a0f484d59837dbf09</td>\n",
       "    </tr>\n",
       "    <tr>\n",
       "      <th>1</th>\n",
       "      <td>84.041972</td>\n",
       "      <td>2024-09-30T22:52:04.858Z</td>\n",
       "      <td>66fb2b940f484d59837dbf0c</td>\n",
       "    </tr>\n",
       "    <tr>\n",
       "      <th>2</th>\n",
       "      <td>26.689434</td>\n",
       "      <td>2024-09-30T22:52:14.858Z</td>\n",
       "      <td>66fb2b9e0f484d59837dbf10</td>\n",
       "    </tr>\n",
       "    <tr>\n",
       "      <th>3</th>\n",
       "      <td>78.733162</td>\n",
       "      <td>2024-09-30T22:52:24.859Z</td>\n",
       "      <td>66fb2ba80f484d59837dbf19</td>\n",
       "    </tr>\n",
       "    <tr>\n",
       "      <th>4</th>\n",
       "      <td>13.199170</td>\n",
       "      <td>2024-09-30T22:52:34.859Z</td>\n",
       "      <td>66fb2bb20f484d59837dbf1f</td>\n",
       "    </tr>\n",
       "  </tbody>\n",
       "</table>\n",
       "</div>"
      ],
      "text/plain": [
       "    quantity                      time                        id\n",
       "0  58.627513  2024-09-30T22:51:54.857Z  66fb2b8a0f484d59837dbf09\n",
       "1  84.041972  2024-09-30T22:52:04.858Z  66fb2b940f484d59837dbf0c\n",
       "2  26.689434  2024-09-30T22:52:14.858Z  66fb2b9e0f484d59837dbf10\n",
       "3  78.733162  2024-09-30T22:52:24.859Z  66fb2ba80f484d59837dbf19\n",
       "4  13.199170  2024-09-30T22:52:34.859Z  66fb2bb20f484d59837dbf1f"
      ]
     },
     "execution_count": 30,
     "metadata": {},
     "output_type": "execute_result"
    }
   ],
   "source": [
    "df.head()"
   ]
  },
  {
   "cell_type": "code",
   "execution_count": 31,
   "metadata": {},
   "outputs": [],
   "source": [
    "df['time'] = pd.to_datetime(df['time'])\n",
    "df = df.sort_values('time')\n",
    "\n"
   ]
  },
  {
   "cell_type": "code",
   "execution_count": 33,
   "metadata": {},
   "outputs": [],
   "source": [
    "scaler = MinMaxScaler()\n",
    "df['quantity_normalized'] = scaler.fit_transform(data[['quantity']])"
   ]
  },
  {
   "cell_type": "code",
   "execution_count": 34,
   "metadata": {},
   "outputs": [],
   "source": [
    "sequence_length = 10\n",
    "sequences = []\n",
    "for i in range(len(df) - sequence_length):\n",
    "    seq = df['quantity_normalized'].values[i:i + sequence_length]\n",
    "    sequences.append(seq)\n",
    "\n",
    "sequences = np.array(sequences)"
   ]
  },
  {
   "cell_type": "code",
   "execution_count": 35,
   "metadata": {},
   "outputs": [],
   "source": [
    "X_train, X_test = train_test_split(sequences, test_size=0.2, random_state=42)"
   ]
  },
  {
   "cell_type": "code",
   "execution_count": 36,
   "metadata": {},
   "outputs": [],
   "source": [
    "X_train = X_train.reshape((X_train.shape[0], X_train.shape[1], 1))\n",
    "X_test = X_test.reshape((X_test.shape[0], X_test.shape[1], 1))"
   ]
  },
  {
   "cell_type": "code",
   "execution_count": 37,
   "metadata": {},
   "outputs": [
    {
     "name": "stderr",
     "output_type": "stream",
     "text": [
      "c:\\anaconda3\\Lib\\site-packages\\keras\\src\\layers\\rnn\\rnn.py:204: UserWarning: Do not pass an `input_shape`/`input_dim` argument to a layer. When using Sequential models, prefer using an `Input(shape)` object as the first layer in the model instead.\n",
      "  super().__init__(**kwargs)\n"
     ]
    }
   ],
   "source": [
    "model = Sequential()\n",
    "model.add(LSTM(50, activation='relu', input_shape=(sequence_length, 1)))\n",
    "model.add(Dense(1))  # Predict the next value in the sequence\n",
    "model.compile(optimizer='adam', loss='mse')"
   ]
  },
  {
   "cell_type": "code",
   "execution_count": 38,
   "metadata": {},
   "outputs": [
    {
     "name": "stdout",
     "output_type": "stream",
     "text": [
      "Epoch 1/10\n",
      "\u001b[1m7/7\u001b[0m \u001b[32m━━━━━━━━━━━━━━━━━━━━\u001b[0m\u001b[37m\u001b[0m \u001b[1m6s\u001b[0m 127ms/step - loss: 0.2700 - val_loss: 0.2640\n",
      "Epoch 2/10\n",
      "\u001b[1m7/7\u001b[0m \u001b[32m━━━━━━━━━━━━━━━━━━━━\u001b[0m\u001b[37m\u001b[0m \u001b[1m0s\u001b[0m 14ms/step - loss: 0.2103 - val_loss: 0.1945\n",
      "Epoch 3/10\n",
      "\u001b[1m7/7\u001b[0m \u001b[32m━━━━━━━━━━━━━━━━━━━━\u001b[0m\u001b[37m\u001b[0m \u001b[1m0s\u001b[0m 15ms/step - loss: 0.1461 - val_loss: 0.1284\n",
      "Epoch 4/10\n",
      "\u001b[1m7/7\u001b[0m \u001b[32m━━━━━━━━━━━━━━━━━━━━\u001b[0m\u001b[37m\u001b[0m \u001b[1m0s\u001b[0m 14ms/step - loss: 0.1007 - val_loss: 0.0770\n",
      "Epoch 5/10\n",
      "\u001b[1m7/7\u001b[0m \u001b[32m━━━━━━━━━━━━━━━━━━━━\u001b[0m\u001b[37m\u001b[0m \u001b[1m0s\u001b[0m 11ms/step - loss: 0.0773 - val_loss: 0.0670\n",
      "Epoch 6/10\n",
      "\u001b[1m7/7\u001b[0m \u001b[32m━━━━━━━━━━━━━━━━━━━━\u001b[0m\u001b[37m\u001b[0m \u001b[1m0s\u001b[0m 11ms/step - loss: 0.0770 - val_loss: 0.0645\n",
      "Epoch 7/10\n",
      "\u001b[1m7/7\u001b[0m \u001b[32m━━━━━━━━━━━━━━━━━━━━\u001b[0m\u001b[37m\u001b[0m \u001b[1m0s\u001b[0m 13ms/step - loss: 0.0719 - val_loss: 0.0683\n",
      "Epoch 8/10\n",
      "\u001b[1m7/7\u001b[0m \u001b[32m━━━━━━━━━━━━━━━━━━━━\u001b[0m\u001b[37m\u001b[0m \u001b[1m0s\u001b[0m 11ms/step - loss: 0.0738 - val_loss: 0.0672\n",
      "Epoch 9/10\n",
      "\u001b[1m7/7\u001b[0m \u001b[32m━━━━━━━━━━━━━━━━━━━━\u001b[0m\u001b[37m\u001b[0m \u001b[1m0s\u001b[0m 13ms/step - loss: 0.0721 - val_loss: 0.0644\n",
      "Epoch 10/10\n",
      "\u001b[1m7/7\u001b[0m \u001b[32m━━━━━━━━━━━━━━━━━━━━\u001b[0m\u001b[37m\u001b[0m \u001b[1m0s\u001b[0m 13ms/step - loss: 0.0651 - val_loss: 0.0635\n"
     ]
    },
    {
     "data": {
      "text/plain": [
       "<keras.src.callbacks.history.History at 0x1c9c28615d0>"
      ]
     },
     "execution_count": 38,
     "metadata": {},
     "output_type": "execute_result"
    }
   ],
   "source": [
    "model.fit(X_train, X_train[:, -1, :], epochs=10, batch_size=32, validation_data=(X_test, X_test[:, -1, :]))"
   ]
  },
  {
   "cell_type": "code",
   "execution_count": 39,
   "metadata": {},
   "outputs": [
    {
     "name": "stdout",
     "output_type": "stream",
     "text": [
      "\u001b[1m2/2\u001b[0m \u001b[32m━━━━━━━━━━━━━━━━━━━━\u001b[0m\u001b[37m\u001b[0m \u001b[1m1s\u001b[0m 574ms/step\n"
     ]
    }
   ],
   "source": [
    "predictions = model.predict(X_test)"
   ]
  },
  {
   "cell_type": "code",
   "execution_count": 40,
   "metadata": {},
   "outputs": [],
   "source": [
    "threshold = 0.05  \n",
    "anomalies = np.abs(predictions - X_test[:, -1, :]) > threshold"
   ]
  },
  {
   "cell_type": "code",
   "execution_count": 41,
   "metadata": {},
   "outputs": [
    {
     "name": "stdout",
     "output_type": "stream",
     "text": [
      "Number of anomalies detected: 43\n"
     ]
    }
   ],
   "source": [
    "print(f\"Number of anomalies detected: {np.sum(anomalies)}\")"
   ]
  },
  {
   "cell_type": "code",
   "execution_count": 42,
   "metadata": {},
   "outputs": [],
   "source": [
    "anomalous_indices = np.where(anomalies)[0]"
   ]
  },
  {
   "cell_type": "code",
   "execution_count": 43,
   "metadata": {},
   "outputs": [],
   "source": [
    "\n",
    "original_test_indices = np.arange(sequence_length, len(df))[-len(X_test):]\n"
   ]
  },
  {
   "cell_type": "code",
   "execution_count": 44,
   "metadata": {},
   "outputs": [],
   "source": [
    "\n",
    "anomalous_rows = df.iloc[original_test_indices[anomalous_indices]]"
   ]
  },
  {
   "cell_type": "code",
   "execution_count": 45,
   "metadata": {},
   "outputs": [
    {
     "name": "stdout",
     "output_type": "stream",
     "text": [
      "Anomalous Rows:\n",
      "                                time   quantity\n",
      "208 2024-10-01 01:04:28.957000+00:00  63.090708\n",
      "209 2024-10-01 01:04:38.959000+00:00  55.998104\n",
      "210 2024-10-01 01:04:48.959000+00:00  76.551293\n",
      "211 2024-10-01 01:04:58.959000+00:00  31.964423\n",
      "213 2024-10-01 01:05:18.960000+00:00  63.871272\n",
      "214 2024-10-01 01:05:28.960000+00:00  24.166713\n",
      "216 2024-10-01 01:05:48.961000+00:00  48.939124\n",
      "217 2024-10-01 01:05:58.962000+00:00  10.646309\n",
      "218 2024-10-01 01:06:08.962000+00:00  46.603764\n",
      "219 2024-10-01 01:06:18.963000+00:00  23.445550\n",
      "220 2024-10-01 01:06:28.962000+00:00  32.015623\n",
      "221 2024-10-01 01:06:38.963000+00:00  50.749110\n",
      "222 2024-10-01 01:06:48.963000+00:00  75.377143\n",
      "223 2024-10-01 01:06:58.965000+00:00  51.917860\n",
      "224 2024-10-01 01:07:08.965000+00:00  71.775817\n",
      "225 2024-10-01 01:07:18.967000+00:00  15.268625\n",
      "226 2024-10-01 01:07:28.967000+00:00  90.272599\n",
      "227 2024-10-01 01:07:38.969000+00:00   9.579084\n",
      "228 2024-10-01 01:07:48.968000+00:00  57.604163\n",
      "229 2024-10-01 01:07:58.968000+00:00  57.949568\n",
      "230 2024-10-01 01:08:08.969000+00:00   8.080936\n",
      "232 2024-10-01 01:08:28.968000+00:00  57.743439\n",
      "233 2024-10-01 01:08:38.969000+00:00  59.358397\n",
      "235 2024-10-01 01:08:58.969000+00:00  20.577828\n",
      "236 2024-10-01 01:09:08.970000+00:00  28.243846\n",
      "237 2024-10-01 01:09:18.972000+00:00   6.009823\n",
      "238 2024-10-01 01:09:28.973000+00:00  19.314831\n",
      "239 2024-10-01 01:09:38.973000+00:00  24.931324\n",
      "240 2024-10-01 01:09:48.973000+00:00  90.598308\n",
      "241 2024-10-01 01:09:58.974000+00:00  32.880778\n",
      "243 2024-10-01 01:10:18.974000+00:00   9.260333\n",
      "244 2024-10-01 01:10:28.974000+00:00   6.165830\n",
      "245 2024-10-01 01:10:38.975000+00:00  25.941376\n",
      "246 2024-10-01 01:10:48.975000+00:00  95.845756\n",
      "247 2024-10-01 01:10:58.976000+00:00  57.305028\n",
      "248 2024-10-01 01:11:08.976000+00:00  23.155920\n",
      "249 2024-10-01 01:11:18.976000+00:00  15.882582\n",
      "251 2024-10-01 01:11:38.977000+00:00  86.000816\n",
      "253 2024-10-01 01:11:58.980000+00:00  21.705393\n",
      "254 2024-10-01 01:12:08.980000+00:00  44.252181\n",
      "255 2024-10-01 01:12:18.980000+00:00  98.686370\n",
      "256 2024-10-01 01:12:28.981000+00:00  49.871909\n",
      "257 2024-10-01 01:12:38.982000+00:00  63.316955\n"
     ]
    }
   ],
   "source": [
    "print(\"Anomalous Rows:\")\n",
    "print(anomalous_rows[['time', 'quantity']])"
   ]
  },
  {
   "cell_type": "code",
   "execution_count": 47,
   "metadata": {},
   "outputs": [
    {
     "name": "stderr",
     "output_type": "stream",
     "text": [
      "c:\\anaconda3\\Lib\\site-packages\\seaborn\\_oldcore.py:1119: FutureWarning: use_inf_as_na option is deprecated and will be removed in a future version. Convert inf values to NaN before operating instead.\n",
      "  with pd.option_context('mode.use_inf_as_na', True):\n",
      "c:\\anaconda3\\Lib\\site-packages\\seaborn\\_oldcore.py:1119: FutureWarning: use_inf_as_na option is deprecated and will be removed in a future version. Convert inf values to NaN before operating instead.\n",
      "  with pd.option_context('mode.use_inf_as_na', True):\n"
     ]
    },
    {
     "data": {
      "image/png": "[encoded data removed]",
      "text/plain": [
       "<Figure size 1000x600 with 1 Axes>"
      ]
     },
     "metadata": {},
     "output_type": "display_data"
    }
   ],
   "source": [
    "import seaborn as sns\n",
    "\n",
    "plt.figure(figsize=(10, 6))\n",
    "sns.histplot(data['quantity'], bins=50, color='blue', kde=True, label='Normal Data')\n",
    "sns.histplot(anomalous_rows['quantity'], bins=50, color='red', kde=True, label='Anomalies')\n",
    "\n",
    "plt.xlabel('Energy Consumption')\n",
    "plt.ylabel('Frequency')\n",
    "plt.title('Distribution of Energy Consumption with Anomalies')\n",
    "plt.legend()\n",
    "plt.show()\n"
   ]
  },
  {
   "cell_type": "code",
   "execution_count": 49,
   "metadata": {},
   "outputs": [
    {
     "name": "stdout",
     "output_type": "stream",
     "text": [
      "Timestamps with Anomalies:\n",
      "2024-10-01 01:04:28.957000+00:00\n",
      "2024-10-01 01:04:38.959000+00:00\n",
      "2024-10-01 01:04:48.959000+00:00\n",
      "2024-10-01 01:04:58.959000+00:00\n",
      "2024-10-01 01:05:18.960000+00:00\n",
      "2024-10-01 01:05:28.960000+00:00\n",
      "2024-10-01 01:05:48.961000+00:00\n",
      "2024-10-01 01:05:58.962000+00:00\n",
      "2024-10-01 01:06:08.962000+00:00\n",
      "2024-10-01 01:06:18.963000+00:00\n",
      "2024-10-01 01:06:28.962000+00:00\n",
      "2024-10-01 01:06:38.963000+00:00\n",
      "2024-10-01 01:06:48.963000+00:00\n",
      "2024-10-01 01:06:58.965000+00:00\n",
      "2024-10-01 01:07:08.965000+00:00\n",
      "2024-10-01 01:07:18.967000+00:00\n",
      "2024-10-01 01:07:28.967000+00:00\n",
      "2024-10-01 01:07:38.969000+00:00\n",
      "2024-10-01 01:07:48.968000+00:00\n",
      "2024-10-01 01:07:58.968000+00:00\n",
      "2024-10-01 01:08:08.969000+00:00\n",
      "2024-10-01 01:08:28.968000+00:00\n",
      "2024-10-01 01:08:38.969000+00:00\n",
      "2024-10-01 01:08:58.969000+00:00\n",
      "2024-10-01 01:09:08.970000+00:00\n",
      "2024-10-01 01:09:18.972000+00:00\n",
      "2024-10-01 01:09:28.973000+00:00\n",
      "2024-10-01 01:09:38.973000+00:00\n",
      "2024-10-01 01:09:48.973000+00:00\n",
      "2024-10-01 01:09:58.974000+00:00\n",
      "2024-10-01 01:10:18.974000+00:00\n",
      "2024-10-01 01:10:28.974000+00:00\n",
      "2024-10-01 01:10:38.975000+00:00\n",
      "2024-10-01 01:10:48.975000+00:00\n",
      "2024-10-01 01:10:58.976000+00:00\n",
      "2024-10-01 01:11:08.976000+00:00\n",
      "2024-10-01 01:11:18.976000+00:00\n",
      "2024-10-01 01:11:38.977000+00:00\n",
      "2024-10-01 01:11:58.980000+00:00\n",
      "2024-10-01 01:12:08.980000+00:00\n",
      "2024-10-01 01:12:18.980000+00:00\n",
      "2024-10-01 01:12:28.981000+00:00\n",
      "2024-10-01 01:12:38.982000+00:00\n"
     ]
    }
   ],
   "source": [
    "# Print the timestamps of anomalies\n",
    "anomalous_timestamps = anomalous_rows['time']\n",
    "\n",
    "print(\"Timestamps with Anomalies:\")\n",
    "for timestamp in anomalous_timestamps:\n",
    "    print(timestamp)\n"
   ]
  },
  {
   "cell_type": "code",
   "execution_count": null,
   "metadata": {},
   "outputs": [],
   "source": []
  }
 ],
 "metadata": {
  "kernelspec": {
   "display_name": "base",
   "language": "python",
   "name": "python3"
  },
  "language_info": {
   "codemirror_mode": {
    "name": "ipython",
    "version": 3
   },
   "file_extension": ".py",
   "mimetype": "text/x-python",
   "name": "python",
   "nbconvert_exporter": "python",
   "pygments_lexer": "ipython3",
   "version": "3.11.9"
  }
 },
 "nbformat": 4,
 "nbformat_minor": 2
}
